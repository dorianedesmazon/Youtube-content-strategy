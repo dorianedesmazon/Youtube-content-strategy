{
  "nbformat": 4,
  "nbformat_minor": 0,
  "metadata": {
    "colab": {
      "name": "C'est trop la classe la POO_doriane.desmazon.ipynb",
      "version": "0.3.2",
      "provenance": [],
      "include_colab_link": true
    },
    "language_info": {
      "codemirror_mode": {
        "name": "ipython",
        "version": 3
      },
      "file_extension": ".py",
      "mimetype": "text/x-python",
      "name": "python",
      "nbconvert_exporter": "python",
      "pygments_lexer": "ipython3",
      "version": "3.7.2"
    },
    "kernelspec": {
      "display_name": "Python 3",
      "language": "python",
      "name": "python3"
    }
  },
  "cells": [
    {
      "cell_type": "markdown",
      "metadata": {
        "id": "view-in-github",
        "colab_type": "text"
      },
      "source": [
        "<a href=\"https://colab.research.google.com/github/dorianedesmazon/Youtube-content-strategy/blob/master/Programmation%20Orient%C3%A9e%20Objet%20-%20Application.ipynb\" target=\"_parent\"><img src=\"https://colab.research.google.com/assets/colab-badge.svg\" alt=\"Open In Colab\"/></a>"
      ]
    },
    {
      "cell_type": "code",
      "metadata": {
        "id": "Lz6V0Rgkf_bJ",
        "colab_type": "code",
        "colab": {}
      },
      "source": [
        "#importation du module randomn\n",
        "import random as rd\n",
        "#construction de notre classee\n",
        "class dataAnalyst:\n",
        "    \"\"\"Classe d'un data Analyst\"\"\"\n",
        "#instanciation du constructeur\n",
        "    def __init__(self,Nom,Prenom,Age,Sexe,FormationPrecedante,motivation=100,progression=0):\n",
        "#définition dees attributs\n",
        "        self.Nom=Nom\n",
        "        self.Prenom=Prenom\n",
        "        self.Age=Age\n",
        "        self.Sexe=Sexe\n",
        "        self.FormationPrecedante=FormationPrecedante\n",
        "        self.motivation=motivation\n",
        "        self.progression=progression \n",
        "#définition des méthodes\n",
        "    def suivreFormation(self):\n",
        "        self.motivation-=rd.randint(5,25)   \n",
        "        self.progression+=rd.randint (20,30)\n",
        "    def bosserPlus(self):\n",
        "        self.motivation-=rd.randint(10,30)\n",
        "        self.progression+=rd.randint (10,30)\n",
        "    def echouer(self):\n",
        "        self.motivation-=rd.randint(20,40)\n",
        "        self.progression+=rd.randint(20,40)\n",
        "    def reussir(self):\n",
        "        self.motivation+=rd.randint(20,40)\n",
        "        self.motivation+=rd.randint(20,40)\n",
        "\n"
      ],
      "execution_count": 0,
      "outputs": []
    },
    {
      "cell_type": "code",
      "metadata": {
        "scrolled": false,
        "id": "972KxhBnf_bV",
        "colab_type": "code",
        "colab": {}
      },
      "source": [
        "#instanciation de l'objet doriane\n",
        "doriane=dataAnalyst(\"Desmazon\",\"Doriane\",25,\"F\",\"Ecole de commerce\")\n",
        "#définition de la fonction\n",
        "def laviededodo():\n",
        "#Choisir une méthode au hasard\n",
        "    listemethode=dir(dataAnalyst)[-4:]\n",
        "    while doriane.motivation>0 or doriane.progression<100:\n",
        "        choix=rd.randint(0,3)\n",
        "        if choix==0:\n",
        "            doriane.bosserPlus()\n",
        "        elif choix==1:\n",
        "            doriane.echouer()\n",
        "        elif choix==2:\n",
        "            doriane.reussir()\n",
        "        else:\n",
        "            doriane.suivreFormation()\n",
        "#Imprimer le resulat\n",
        "        print(\"la méthode'{}'a été utilisée\".format(listemethode[choix]))\n",
        "        print(\"la motivation vaut maintenant'{}'\".format(doriane.motivation))\n",
        "        print(\"la progression vaut maintenant '{}'\".format(doriane.progression))\n",
        "        print(\"\\n\")\n",
        "        if (doriane.motivation<=0):\n",
        "            print(\"Bravo, tu as appris!\")\n",
        "            break\n",
        "        if (doriane.progression>=100):\n",
        "            print(\"Bravo, tu as gagné!\")\n",
        "            break\n"
      ],
      "execution_count": 0,
      "outputs": []
    },
    {
      "cell_type": "code",
      "metadata": {
        "scrolled": true,
        "id": "fOWOstjYf_bc",
        "colab_type": "code",
        "outputId": "0288880a-25d2-4d7d-ade8-092fef114fc3",
        "colab": {
          "base_uri": "https://localhost:8080/",
          "height": 544
        }
      },
      "source": [
        "#lancement du programme\n",
        "laviededodo()"
      ],
      "execution_count": 0,
      "outputs": [
        {
          "output_type": "stream",
          "text": [
            "la méthode'suivreFormation'a été utilisée\n",
            "la motivation vaut maintenant'79'\n",
            "la progression vaut maintenant '25'\n",
            "\n",
            "\n",
            "la méthode'suivreFormation'a été utilisée\n",
            "la motivation vaut maintenant'68'\n",
            "la progression vaut maintenant '50'\n",
            "\n",
            "\n",
            "la méthode'suivreFormation'a été utilisée\n",
            "la motivation vaut maintenant'63'\n",
            "la progression vaut maintenant '71'\n",
            "\n",
            "\n",
            "la méthode'bosserPlus'a été utilisée\n",
            "la motivation vaut maintenant'37'\n",
            "la progression vaut maintenant '83'\n",
            "\n",
            "\n",
            "la méthode'reussir'a été utilisée\n",
            "la motivation vaut maintenant'83'\n",
            "la progression vaut maintenant '83'\n",
            "\n",
            "\n",
            "la méthode'bosserPlus'a été utilisée\n",
            "la motivation vaut maintenant'70'\n",
            "la progression vaut maintenant '105'\n",
            "\n",
            "\n",
            "Bravo, tu as gagné!\n"
          ],
          "name": "stdout"
        }
      ]
    }
  ]
}